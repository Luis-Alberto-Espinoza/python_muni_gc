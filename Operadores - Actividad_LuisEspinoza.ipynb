{
 "cells": [
  {
   "cell_type": "markdown",
   "metadata": {},
   "source": [
    "## Operadores - Actividad"
   ]
  },
  {
   "cell_type": "markdown",
   "metadata": {},
   "source": [
    "1) Pedir al usuario dos números y mostrar por pantalla la suma de ellos."
   ]
  },
  {
   "cell_type": "code",
   "execution_count": 3,
   "metadata": {},
   "outputs": [
    {
     "name": "stdout",
     "output_type": "stream",
     "text": [
      "la suma de 1 + 31 = 32\n"
     ]
    }
   ],
   "source": [
    "num1=int(input(\"Ingrese el Primer valor\"))\n",
    "num2=int(input(\"Ingrese el Segundo valor\"))\n",
    "print(\"la suma de\",num1,\"+\", num2 ,\"=\", num1+num2 )"
   ]
  },
  {
   "cell_type": "markdown",
   "metadata": {},
   "source": [
    "2) Calcular el perímetro y área de un rectángulo dada su base y su altura (el usuario debe introducir por teclado los dos valores)."
   ]
  },
  {
   "cell_type": "code",
   "execution_count": 5,
   "metadata": {},
   "outputs": [
    {
     "name": "stdout",
     "output_type": "stream",
     "text": [
      "El perímetro es (base=> 12 +altura=> 36 )x2\n",
      "que da como resultado 96\n",
      "El Area es (base=> 12 x altura=> 36 )\n",
      "que da como resultado 432\n"
     ]
    }
   ],
   "source": [
    "base=int(input(\"Ingrese la Base \"))\n",
    "altura=int(input(\"Ingrese la Altura \"))\n",
    "perimetro = (base+altura)*2\n",
    "area= base*altura\n",
    "print(\"El perímetro es (base=>\",base,\"+altura=>\",altura,\")x2\\nque da como resultado\", perimetro)\n",
    "print(\"El Area es (base=>\",base,\"x altura=>\",altura,\")\\nque da como resultado\", area)"
   ]
  },
  {
   "cell_type": "markdown",
   "metadata": {},
   "source": [
    "3) Calcular el resultado de elevar un número entero a otro número entero (por ejemplo, 5 elevado a 3 = 5^3 = 5*5*5)."
   ]
  },
  {
   "cell_type": "code",
   "execution_count": 6,
   "metadata": {},
   "outputs": [
    {
     "name": "stdout",
     "output_type": "stream",
     "text": [
      "125\n"
     ]
    }
   ],
   "source": [
    "print(5**3)"
   ]
  },
  {
   "cell_type": "markdown",
   "metadata": {},
   "source": [
    "4) Escribe un programa que convierta grados Celsius a grados Fahrenheit utilizando la fórmula: **F = (C * 9/5) + 32**"
   ]
  },
  {
   "cell_type": "code",
   "execution_count": 7,
   "metadata": {},
   "outputs": [
    {
     "name": "stdout",
     "output_type": "stream",
     "text": [
      "los grados C ingresados: 32  pasados a F son: 89.6\n"
     ]
    }
   ],
   "source": [
    "c = int(input(\"Ingreselos grados Celcius que desee convertir a Farenheit\"))\n",
    "f= (c*9/5)+32\n",
    "print(\"los grados C ingresados:\", c,\" pasados a F son:\",f)"
   ]
  },
  {
   "cell_type": "markdown",
   "metadata": {},
   "source": [
    "5) Pedir al usuario su edad y mostrar por pantalla si es mayor de edad o no. (Mayor de edad >= 18)"
   ]
  },
  {
   "cell_type": "code",
   "execution_count": 9,
   "metadata": {},
   "outputs": [
    {
     "name": "stdout",
     "output_type": "stream",
     "text": [
      "usted ya es mayor de edad\n"
     ]
    }
   ],
   "source": [
    "edad = int(input(\"puede usted ingresar su edad \"))\n",
    "if(edad>= 18 ):\n",
    "    print(\"usted ya es mayor de edad\")\n",
    "else:\n",
    "    print(\"Usted Es menor de edad\")"
   ]
  },
  {
   "cell_type": "markdown",
   "metadata": {},
   "source": [
    "6) Comprobar si el numero ingresado por el usuario es par o impar."
   ]
  },
  {
   "cell_type": "code",
   "execution_count": 11,
   "metadata": {},
   "outputs": [
    {
     "name": "stdout",
     "output_type": "stream",
     "text": [
      "el numero 24 es par\n"
     ]
    }
   ],
   "source": [
    "valor=int(input(\"ingrese un valor para determinar si es Par o Impar\"))\n",
    "if (valor%2 ==0):\n",
    "    print (\"el numero\",valor,\"es par\")\n",
    "else:\n",
    "    print(\"el numero\",valor,\"es impar\")"
   ]
  },
  {
   "cell_type": "markdown",
   "metadata": {},
   "source": [
    "7) Pedir al usuario que ingrese su dirección email y luego mostrar un mensaje indicando si la dirección es válida o no. Una dirección se considerará válida si contiene el símbolo \"@\"."
   ]
  },
  {
   "cell_type": "code",
   "execution_count": 14,
   "metadata": {},
   "outputs": [
    {
     "name": "stdout",
     "output_type": "stream",
     "text": [
      "Su correo no es valido\n"
     ]
    }
   ],
   "source": [
    "correo = (input(\"ingrese su correo electronico\"))\n",
    "if \"@\" in correo:\n",
    "    print(\"su correo es valido\")\n",
    "else:\n",
    "    print(\"Su correo no es valido\")\n"
   ]
  },
  {
   "cell_type": "markdown",
   "metadata": {},
   "source": [
    "8) Dado un número de dos cifras, diseñe un algoritmo que permita obtener el número invertido. Ejemplo, si se introduce 23 que muestre 32. (Recordar que las cadenas pueden tratarse como listas de caracteres)."
   ]
  },
  {
   "cell_type": "code",
   "execution_count": 18,
   "metadata": {},
   "outputs": [
    {
     "name": "stdout",
     "output_type": "stream",
     "text": [
      "Su cadena original es  => 32 \n",
      "su cadena invertida es => 23\n"
     ]
    }
   ],
   "source": [
    "ejercicio8 = input(\"ingrese sus valores\")\n",
    "invertida = ejercicio8[::-1]\n",
    "print(\"Su cadena original es  =>\",ejercicio8,\"\\nsu cadena invertida es =>\", invertida)"
   ]
  },
  {
   "cell_type": "markdown",
   "metadata": {},
   "source": [
    "9) Crea un programa que pida al usuario dos números y muestre True si ambos son mayores que 10."
   ]
  },
  {
   "cell_type": "code",
   "execution_count": 22,
   "metadata": {},
   "outputs": [
    {
     "name": "stdout",
     "output_type": "stream",
     "text": [
      "el valor 16 y el valor 16 SON MAYORES QUE 10\n"
     ]
    }
   ],
   "source": [
    "valor1=int(input(\"ingrese su primer valor\"))\n",
    "valor2=int(input(\"ingrese su segundo valor\"))\n",
    "if (valor1 > 10) & (valor2 >10):\n",
    "    print(\"el valor\",valor1,\"y el valor\",valor2,\"SON MAYORES QUE 10\")\n",
    "else: \n",
    "    print(\"uno o los dos valores ingresados NO SON MAYORES QUE 10\")\n"
   ]
  },
  {
   "cell_type": "markdown",
   "metadata": {},
   "source": [
    "10) Escribe un programa que verifique si un número ingresado por el usuario es divisible por 3 y por 5."
   ]
  },
  {
   "cell_type": "code",
   "execution_count": 24,
   "metadata": {},
   "outputs": [
    {
     "name": "stdout",
     "output_type": "stream",
     "text": [
      "El número 20 no es divisible tanto por 3 como por 5.\n"
     ]
    }
   ],
   "source": [
    "numero = int(input(\"Ingrese un número: \"))\n",
    "\n",
    "if numero % 3 == 0 and numero % 5 == 0:\n",
    "    print(\"El número\", numero, \"es divisible tanto por 3 como por 5.\")\n",
    "else:\n",
    "    print(\"El número\", numero, \"no es divisible tanto por 3 como por 5.\")"
   ]
  },
  {
   "cell_type": "markdown",
   "metadata": {},
   "source": [
    "11) Utilizando la información del punto 5, preguntar al usuario si posee carnet de conducir, luego verificar si puede conducir un automóvil."
   ]
  },
  {
   "cell_type": "code",
   "execution_count": 27,
   "metadata": {},
   "outputs": [
    {
     "name": "stdout",
     "output_type": "stream",
     "text": [
      "usted ya es mayor de edad\n",
      "Usted debe sacar el carnet antes de conducir\n"
     ]
    }
   ],
   "source": [
    "edad = int(input(\"puede usted ingresar su edad \"))\n",
    "if(edad>= 18 ):\n",
    "    print(\"usted ya es mayor de edad\")\n",
    "    carnet =(input(\"Usted posee carnet de conducir?\")).lower()\n",
    "    if carnet ==\"si\" :\n",
    "        print(\"Usted puede conducir con cuidado\")\n",
    "    else:\n",
    "        print(\"Usted debe sacar el carnet antes de conducir\")\n",
    "else:\n",
    "    print(\"Usted Es menor de edad\")"
   ]
  },
  {
   "cell_type": "markdown",
   "metadata": {},
   "source": [
    "12) Pide al usuario un número y verifica si es positivo y no es mayor que 100."
   ]
  },
  {
   "cell_type": "code",
   "execution_count": 32,
   "metadata": {},
   "outputs": [
    {
     "name": "stdout",
     "output_type": "stream",
     "text": [
      "El numero esta fuera del rango \n"
     ]
    }
   ],
   "source": [
    "num= int(input(\"Ingrese un valor\"))\n",
    "if (num >0) & (num < 100):\n",
    "    print(\"El numero esta dentro del rango estipulado\")\n",
    "else:\n",
    "    print(\"El numero esta fuera del rango \")"
   ]
  },
  {
   "cell_type": "markdown",
   "metadata": {},
   "source": [
    "13) Crear un programa que valide si un número ingresado por el usuario es par y mayor que 20."
   ]
  },
  {
   "cell_type": "code",
   "execution_count": 34,
   "metadata": {},
   "outputs": [
    {
     "name": "stdout",
     "output_type": "stream",
     "text": [
      "El numero esta dentro del rango \n"
     ]
    }
   ],
   "source": [
    "num = int(input(\"Ingrese un numero\"))\n",
    "if (num % 2 == 0) &(num >20):\n",
    "    print(\"El numero esta dentro del rango \")\n",
    "else:\n",
    "    print(\"El numero esta fuera del rango\")"
   ]
  },
  {
   "cell_type": "markdown",
   "metadata": {},
   "source": [
    "14) Dada la variable **numero = 5**, realizar la operación necesaria para que número sea igual a 8. Luego imprimir en pantalla el nuevo valor de número y realizar una nueva operación para que el valor de número sea igual a 4 y mostrar en pantalla el nuevo valor."
   ]
  },
  {
   "cell_type": "code",
   "execution_count": 37,
   "metadata": {},
   "outputs": [
    {
     "name": "stdout",
     "output_type": "stream",
     "text": [
      "8\n",
      "4\n"
     ]
    }
   ],
   "source": [
    "numero =5\n",
    "numero += 3\n",
    "print(numero)\n",
    "numero /=2 \n",
    "print(int(numero))"
   ]
  },
  {
   "cell_type": "markdown",
   "metadata": {},
   "source": [
    "15) Dadas las variables altura = \"10\" y base = 5, calcular el área de un triángulo y mostrar el resultado en pantalla. ¿Por qué el resultado es un error? ¿Cómo lo corregirías?"
   ]
  },
  {
   "cell_type": "code",
   "execution_count": 38,
   "metadata": {},
   "outputs": [
    {
     "name": "stdout",
     "output_type": "stream",
     "text": [
      "25.0\n"
     ]
    }
   ],
   "source": [
    "altura = 10\n",
    "base = 5\n",
    "area = base * altura *1/2\n",
    "print(area)\n",
    "print(\"El error es porque altura en el enunciado esta como String y por ende no se puede realizar una operacion matematica\")"
   ]
  },
  {
   "cell_type": "markdown",
   "metadata": {},
   "source": [
    "16) Crea un programa que calcule el promedio de tres calificaciones ingresadas por el usuario, y comprobar si el alumno aprobó o no (aprueba con nota mayor a 6)."
   ]
  },
  {
   "cell_type": "code",
   "execution_count": 45,
   "metadata": {},
   "outputs": [
    {
     "name": "stdout",
     "output_type": "stream",
     "text": [
      "16\n",
      "su promedio es  5.333\n"
     ]
    }
   ],
   "source": [
    "contador = 0\n",
    "resultado=0\n",
    "notas0 =int(input(\"Ingrese su nota n°1\"))\n",
    "notas1 =int(input(\"Ingrese su nota n°2\"))\n",
    "notas2 =int(input(\"Ingrese su nota n°3\"))\n",
    "resultado = notas1+notas0+notas2\n",
    "print (resultado)\n",
    "promedio = round((resultado /3),3)\n",
    "print(\"su promedio es \", promedio)\n"
   ]
  },
  {
   "cell_type": "markdown",
   "metadata": {},
   "source": [
    "17) Pide al usuario su edad y calcula cuántos días, horas y minutos ha vivido aproximadamente (asumiendo 365 días por año)."
   ]
  },
  {
   "cell_type": "code",
   "execution_count": 49,
   "metadata": {},
   "outputs": [
    {
     "name": "stdout",
     "output_type": "stream",
     "text": [
      "la cantidad de dias vividos al momento de su ultimo cumpleaños es de: 15330 \n",
      "La cantidad de horas vividas al momento de su ultimo cumpleaños es de: 367920 \n",
      "La cantidad de minutos vividos al momento de su ultimo cumpleaños es de: 22075200\n"
     ]
    }
   ],
   "source": [
    "edad= int(input(\"podria decirme cuantos años tiene?\"))\n",
    "edadXdias= edad *365\n",
    "edadxhoras = edadXdias *24\n",
    "edadXminutos = edadxhoras* 60\n",
    "print(\"la cantidad de dias vividos al momento de su ultimo cumpleaños es de:\",edadXdias,\"\\nLa cantidad de horas vividas al momento de su ultimo cumpleaños es de:\",edadxhoras,\"\\nLa cantidad de minutos vividos al momento de su ultimo cumpleaños es de:\", edadXminutos)"
   ]
  },
  {
   "cell_type": "markdown",
   "metadata": {},
   "source": [
    "18) Crea un programa que verifique si un número ingresado por el usuario es múltiplo de 4 y de 6 al mismo tiempo."
   ]
  },
  {
   "cell_type": "code",
   "execution_count": 54,
   "metadata": {},
   "outputs": [
    {
     "name": "stdout",
     "output_type": "stream",
     "text": [
      " su numero no es multiplo ni de 4 ni de 6\n"
     ]
    }
   ],
   "source": [
    "numero = int(input(\"Ingrese un valor para determinar si es multiplo de 4 y 6\"))\n",
    "if numero % 4 ==0:\n",
    "    if numero % 6 == 0:\n",
    "        print(\"Su numero es multiplo de los dos numeros \")\n",
    "    else:\n",
    "        print(\"Su numero es solo multiplo de 4\")\n",
    "elif numero %6 == 0:\n",
    "    print(\"Su numero es solo multiplo de 6\")\n",
    "else:\n",
    "    print(\" su numero no es multiplo ni de 4 ni de 6\")"
   ]
  }
 ],
 "metadata": {
  "kernelspec": {
   "display_name": "Python 3",
   "language": "python",
   "name": "python3"
  },
  "language_info": {
   "codemirror_mode": {
    "name": "ipython",
    "version": 3
   },
   "file_extension": ".py",
   "mimetype": "text/x-python",
   "name": "python",
   "nbconvert_exporter": "python",
   "pygments_lexer": "ipython3",
   "version": "3.10.12"
  }
 },
 "nbformat": 4,
 "nbformat_minor": 2
}
