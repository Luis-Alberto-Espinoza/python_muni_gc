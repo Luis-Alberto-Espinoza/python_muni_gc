{
 "cells": [
  {
   "cell_type": "markdown",
   "metadata": {},
   "source": [
    "## Adivina el número (juego)\n",
    "### Crear un programa en el que: El usuario deberá adivinar el número que la máquina escogió. \n",
    "* Deben utilizar la librería random para generar la elección de la máquina. \n",
    "* El usuario tendrá 5 vidas \n",
    "* Cada vez que intente adivinar, recibirá como respuesta “El número es mayor” o “El número es menor” según corresponda \n",
    "* perderá una vida en cada intento. \n",
    "* Ganará cuando logre adivinar el número elegido por la máquina."
   ]
  },
  {
   "cell_type": "code",
   "execution_count": null,
   "metadata": {},
   "outputs": [],
   "source": [
    "import random\n",
    "vidas = 0\n",
    "numeroRandon= random.randint(1, 4) \n",
    "print(\"Comenzamos ingrese un número del 1 al 10\")\n",
    "\n",
    "while(vidas < 5):\n",
    "    if (vidas == 0):\n",
    "        numero = int(input(\"ingrese un número \"))\n",
    "    if (vidas > 0):\n",
    "        if(numero < numeroRandon):\n",
    "            numero = int(input(f\"Lo siento pero no tuvo suerte le quedan {(5-vidas)} vidas\\n Vuelva a ingresar un número 'MAYOR'\"))\n",
    "        else:\n",
    "            numero = int(input(f\"Lo siento pero no tuvo suerte le quedan {(5-vidas)} vidas\\n Vuelva a ingresar un número 'MENOR'\"))\n",
    "    if(numero == numeroRandon):\n",
    "        print( f\"GANO!!! EL NUMERO CORRECTO ES EL {numeroRandon}\")\n",
    "        break        \n",
    "    vidas +=1\n",
    "if (vidas == 5):\n",
    "    print (\"GAME OVER!!!\")\n",
    "\n"
   ]
  },
  {
   "cell_type": "markdown",
   "metadata": {},
   "source": [
    "---"
   ]
  },
  {
   "cell_type": "markdown",
   "metadata": {},
   "source": [
    "## Piedra, Papel o Tijeras\n",
    "### Crear un programa que permita jugar al clásico juego piedra, papel o tijeras. \n",
    "* El mismo debe pedir al usuario que ingrese su jugada\n",
    "* utilizando la librería `random` generar una elección para la máquina. \n",
    "* Luego debe mostrar el ganador y preguntar al usuario si desea volver a jugar."
   ]
  },
  {
   "cell_type": "code",
   "execution_count": null,
   "metadata": {},
   "outputs": [],
   "source": [
    "import random\n",
    "jugadas = 0 \n",
    "respuesta = True\n",
    "resultado =0\n",
    "\n",
    "while respuesta:\n",
    "    resultado =0\n",
    "    maquina = random.choice([\"piedra\", \"papel\", \"tijera\"])\n",
    "   # maquina = ([\"piedra\", \"papel\", \"tijera\"])\n",
    "    #print(\"maquina es = \", maquina[2])\n",
    "    #maquina = maquina[2]\n",
    "    #print(\"maquina es = \", maquina)\n",
    "    usuario = int(input(\"para elegir ingrese 1 si desea 'PIEDRA'\\n 2 si desea 'PAPEL'\\n 3 si desea 'TIJERA'\"))\n",
    "    match usuario:\n",
    "        case 1:\n",
    "            usuario= \"piedra\"\n",
    "        case 2:\n",
    "            usuario= \"papel\"\n",
    "        case 3:\n",
    "            usuario= \"tijera\"\n",
    "        case _:\n",
    "            print(\"Ingreso una Opcion no valida\")\n",
    "            break\n",
    "    if(maquina == usuario):\n",
    "        resultado =3\n",
    "    if(maquina == \"piedra\"):\n",
    "        if( usuario == \"papel\"):\n",
    "            resultado =1        \n",
    "        if(usuario == \"tijera\"):\n",
    "            resultado =0\n",
    "    if (maquina == \"papel\"):\n",
    "        if(usuario == \"piedra\"):\n",
    "            resultado = 0\n",
    "        if(usuario == \"tijera\"):\n",
    "            resultado = 1\n",
    "    if (maquina == \"tijera\"):\n",
    "        if (usuario == \"piedra\"):\n",
    "            resultado = 1\n",
    "        if (usuario == \"papel\"):\n",
    "            resultado = 0\n",
    "    match resultado:\n",
    "        case 0: print(f\"Usted perdio!!! {usuario} pierde contra {maquina}\")\n",
    "        case 1: print(f\"Usted gano!!! {usuario} le gana a {maquina}\")\n",
    "        case 3: print(f\"Hubo Empate!!! {usuario} = {maquina}\")\n",
    "    seguir = int(input(\"DESEA JUGAR OTRA VEZ? INGRESE 1 PARA 'SI'.... 2 PARA 'NO' \"))\n",
    "    jugadas +=1\n",
    "    if(seguir == 2): respuesta =False\n",
    "    if(seguir == 1): respuesta =True\n",
    "print (f\"Fin del juego  hubieron {jugadas} jugadas\")         \n",
    "\n",
    "\n",
    "    "
   ]
  },
  {
   "cell_type": "markdown",
   "metadata": {},
   "source": [
    "---"
   ]
  },
  {
   "cell_type": "markdown",
   "metadata": {},
   "source": [
    "### Carrito de compras\n",
    "\n",
    "Diseñar un programa que simule un carrito de compras, el mismo debe contar con un menú que contenga las siguientes opciones:\n",
    "\n",
    "1. Agregar producto\n",
    "2. Eliminar producto\n",
    "3. Ver lista de compras\n",
    "4. Finalizar compra\n",
    "5. Salir\n",
    "\n",
    "Los productos disponibles son:\n",
    "\n",
    "Leche $50 - Galletas $35 - Gaseosa $87 - Huevos $66 - Aceite $110 - Pan $20\n",
    "\n",
    "Al finalizar la compra, debe “imprimirse” el ticket de compra, el cual contendrá la lista de productos y el precio final."
   ]
  },
  {
   "cell_type": "code",
   "execution_count": null,
   "metadata": {},
   "outputs": [],
   "source": [
    "# Definir la lista de productos con sus precios\n",
    "productos = {\n",
    "    \"Leche\": 50,\n",
    "    \"Galletas\": 35,\n",
    "    \"Gaseosa\": 87,\n",
    "    \"Huevos\": 66,\n",
    "    \"Aceite\": 110,\n",
    "    \"Pan\": 20\n",
    "}\n",
    "\n",
    "# Inicializar el carrito de compras como un diccionario vacío\n",
    "carrito = {}\n",
    "\n",
    "# Bucle principal del programa\n",
    "while True:\n",
    "    # Mostrar el menú al usuario\n",
    "    print(\"\\nMenú:\")\n",
    "    print(\"1. Agregar producto\")\n",
    "    print(\"2. Eliminar producto\")\n",
    "    print(\"3. Ver lista de compras\")\n",
    "    print(\"4. Finalizar compra\")\n",
    "    print(\"5. Salir\")\n",
    "\n",
    "    opcion = input(\"Ingrese una opción: \")\n",
    "\n",
    "    # Agregar producto al carrito\n",
    "    if opcion == \"1\":\n",
    "\n",
    "        for indice, producto in enumerate(productos, start=1):\n",
    "            print(f\"{indice}_ {producto}\")\n",
    "        producto = input(\"Ingrese el nombre del producto: \")\n",
    "        cantidad = int(input(\"Ingrese la cantidad a agregar: \"))\n",
    "        if producto in productos:\n",
    "            if producto in carrito:\n",
    "                carrito[producto] += cantidad\n",
    "            else:\n",
    "                carrito[producto] = cantidad\n",
    "            print(f\"{cantidad} {producto} agregado(s) al carrito.\")\n",
    "        else:\n",
    "            print(\"Producto no válido.\")\n",
    "\n",
    "    # Eliminar producto del carrito\n",
    "    elif opcion == \"2\":\n",
    "        producto = input(\"Ingrese el nombre del producto: \")\n",
    "        cantidad = int(input(\"Ingrese la cantidad a eliminar: \"))\n",
    "        if producto in carrito:\n",
    "            if cantidad >= carrito[producto]:\n",
    "                del carrito[producto]\n",
    "            else:\n",
    "                carrito[producto] -= cantidad\n",
    "            print(f\"{cantidad} {producto} eliminado(s) del carrito.\")\n",
    "        else:\n",
    "            print(\"Producto no encontrado en el carrito.\")\n",
    "\n",
    "    # Ver lista de compras\n",
    "    elif opcion == \"3\":\n",
    "        print(\"Lista de compras:\")\n",
    "        for producto, cantidad in carrito.items():\n",
    "            print(f\"{cantidad} {producto}: ${cantidad * productos[producto]}\")\n",
    "        print(\"Total:\", sum(cantidad * productos[producto] for producto, cantidad in carrito.items()))\n",
    "\n",
    "    # Finalizar compra\n",
    "    elif opcion == \"4\":\n",
    "        print(\"¡Compra finalizada!\")\n",
    "        print(\"Lista de compras:\")\n",
    "        for producto, cantidad in carrito.items():\n",
    "            print(f\"{cantidad} {producto}: ${cantidad * productos[producto]}\")\n",
    "        print(\"Total:\", sum(cantidad * productos[producto] for producto, cantidad in carrito.items()))\n",
    "        carrito.clear()\n",
    "\n",
    "    # Salir del programa\n",
    "    elif opcion == \"5\":\n",
    "        print(\"¡Hasta luego!\")\n",
    "        break\n",
    "\n",
    "    # Opción no válida\n",
    "    else:\n",
    "        print(\"Opción no válida. Intente nuevamente.\")\n"
   ]
  },
  {
   "cell_type": "markdown",
   "metadata": {},
   "source": [
    "---\n",
    "### Ta-Te-Ti\n",
    "\n",
    "Construir un Ta-Te-Ti (tres en raya) que se juegue contra otro jugador. El usuario deberá indicar la posición en la que desea jugar su ficha. Pueden utilizar una matriz para simular el tablero de juego."
   ]
  },
  {
   "cell_type": "markdown",
   "metadata": {},
   "source": [
    "---\n",
    "### **Cajero Automático**\n",
    "\n",
    "Diseñar un simulador de cajero automático, el mismo debe permitir ingresar dinero, retirar dinero, consultar saldo, hacer transferencia, y debe contener más de una cuenta permitiendo seleccionar desde cual se desea retirar. El mismo debe poseer una contraseña de acceso pedida al usuario al momento de iniciar el programa.\n"
   ]
  },
  {
   "cell_type": "code",
   "execution_count": null,
   "metadata": {},
   "outputs": [],
   "source": []
  },
  {
   "cell_type": "markdown",
   "metadata": {},
   "source": [
    "---\n",
    "### Batalla naval\n",
    "\n",
    "Crear un programa que permita jugar la batalla naval entre dos jugadores. Cada uno debe ubicar un barco que contiene 3 secciones. Luego cada jugador tira una bomba por turno indicando la posición en x y la posición en y. Si acierta, esa sección del barco queda destruida y se muestra un mensaje por pantalla. Gana el jugador que logre destruir el barco completo del rival.\n"
   ]
  }
 ],
 "metadata": {
  "kernelspec": {
   "display_name": "Python 3",
   "language": "python",
   "name": "python3"
  },
  "language_info": {
   "codemirror_mode": {
    "name": "ipython",
    "version": 3
   },
   "file_extension": ".py",
   "mimetype": "text/x-python",
   "name": "python",
   "nbconvert_exporter": "python",
   "pygments_lexer": "ipython3",
   "version": "3.10.12"
  }
 },
 "nbformat": 4,
 "nbformat_minor": 2
}
